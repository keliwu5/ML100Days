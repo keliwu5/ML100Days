{
  "nbformat": 4,
  "nbformat_minor": 0,
  "metadata": {
    "kernelspec": {
      "display_name": "Python 3",
      "language": "python",
      "name": "python3"
    },
    "language_info": {
      "codemirror_mode": {
        "name": "ipython",
        "version": 3
      },
      "file_extension": ".py",
      "mimetype": "text/x-python",
      "name": "python",
      "nbconvert_exporter": "python",
      "pygments_lexer": "ipython3",
      "version": "3.6.8"
    },
    "colab": {
      "name": "作業題目_D09.ipynb",
      "provenance": [],
      "collapsed_sections": [],
      "toc_visible": true,
      "include_colab_link": true
    }
  },
  "cells": [
    {
      "cell_type": "markdown",
      "metadata": {
        "id": "view-in-github",
        "colab_type": "text"
      },
      "source": [
        "<a href=\"https://colab.research.google.com/github/keliwu5/ML100Days/blob/main/homework/%E4%BD%9C%E6%A5%AD%E9%A1%8C%E7%9B%AE_D09.ipynb\" target=\"_parent\"><img src=\"https://colab.research.google.com/assets/colab-badge.svg\" alt=\"Open In Colab\"/></a>"
      ]
    },
    {
      "cell_type": "markdown",
      "metadata": {
        "id": "C2qkILqtM8Wg"
      },
      "source": [
        "作業目標:<br>\r\n",
        "1.讀取各種檔案格式<br>\r\n",
        "2.輸出各種檔案格式<br>"
      ]
    },
    {
      "cell_type": "code",
      "metadata": {
        "id": "wpsf3ccxMwtW"
      },
      "source": [
        "from google.colab import drive\n",
        "drive.mount('/content/drive')"
      ],
      "execution_count": null,
      "outputs": []
    },
    {
      "cell_type": "markdown",
      "metadata": {
        "id": "t47Sf6ejNLn7"
      },
      "source": [
        "作業重點:<br>\r\n",
        "1.不同檔案讀取方式皆不同，須了解檔案格式中的邏輯，例如:csv是以逗號分隔<br>\r\n",
        "2.讀取、輸出檔案的程式碼不同，須注意使用方式"
      ]
    },
    {
      "cell_type": "markdown",
      "metadata": {
        "id": "IabouywFNmI7"
      },
      "source": [
        "題目: <br>\r\n",
        "讀取資料夾中boston.csv讀取其欄位CHAS、NOX、RM，輸出成.xlsx檔案"
      ]
    },
    {
      "cell_type": "code",
      "metadata": {
        "id": "Rid6t1NoNrlB"
      },
      "source": [
        "import pandas as pd"
      ],
      "execution_count": 1,
      "outputs": []
    },
    {
      "cell_type": "code",
      "metadata": {
        "id": "YGXm3I0VMvSG"
      },
      "source": [
        "#讀取資料夾中boston.csv讀取其欄位CHAS、NOX、RM，輸出成.xlsx檔案\r\n",
        "boston_data = pd.read_csv('boston.csv', usecols=['CHAS','NOX','RM'])"
      ],
      "execution_count": 2,
      "outputs": []
    },
    {
      "cell_type": "code",
      "metadata": {
        "id": "RkTGpcqfMvSH"
      },
      "source": [
        "boston_data.to_excel('boston_xls.xlsx')"
      ],
      "execution_count": 4,
      "outputs": []
    },
    {
      "cell_type": "code",
      "metadata": {
        "id": "ecHAWzPoN1v9"
      },
      "source": [
        ""
      ],
      "execution_count": null,
      "outputs": []
    }
  ]
}