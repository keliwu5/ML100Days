{
  "nbformat": 4,
  "nbformat_minor": 0,
  "metadata": {
    "colab": {
      "name": "作業題目_D07.ipynb",
      "provenance": [],
      "collapsed_sections": [],
      "include_colab_link": true
    },
    "kernelspec": {
      "name": "python3",
      "display_name": "Python 3"
    }
  },
  "cells": [
    {
      "cell_type": "markdown",
      "metadata": {
        "id": "view-in-github",
        "colab_type": "text"
      },
      "source": [
        "<a href=\"https://colab.research.google.com/github/keliwu5/ML100Days/blob/main/homework/%E4%BD%9C%E6%A5%AD%E9%A1%8C%E7%9B%AE_D07.ipynb\" target=\"_parent\"><img src=\"https://colab.research.google.com/assets/colab-badge.svg\" alt=\"Open In Colab\"/></a>"
      ]
    },
    {
      "cell_type": "code",
      "metadata": {
        "id": "g7_Zhb9Bif-K"
      },
      "source": [
        ""
      ],
      "execution_count": null,
      "outputs": []
    },
    {
      "cell_type": "markdown",
      "metadata": {
        "id": "GLhLqOtlj1fc"
      },
      "source": [
        "作業目標<br>\r\n",
        "活用矩陣運算，實做線性代數<br>\r\n",
        "作業重點<br>\r\n",
        "線性代數公式應用<br>\r\n",
        "矩陣相乘維度需要對好，例如:2X3矩陣乘上3X5矩陣得到2X5矩陣"
      ]
    },
    {
      "cell_type": "markdown",
      "metadata": {
        "id": "Rq6NRNxLj4w1"
      },
      "source": [
        "題目:<br>\r\n",
        "array1 = np.array([[10, 8], [3, 5]]) <br>\r\n",
        "1. 運用上列array計算反矩陣，乘上原矩陣，並觀察是否為單位矩陣?\r\n",
        "2. 運用上列array計算特徵值、特徵向量?\r\n",
        "3. 運用上列array計算SVD?"
      ]
    },
    {
      "cell_type": "code",
      "metadata": {
        "id": "YakNatIPj3CW"
      },
      "source": [
        "import numpy as np"
      ],
      "execution_count": 1,
      "outputs": []
    },
    {
      "cell_type": "code",
      "metadata": {
        "id": "QT4ntMV1kR1c"
      },
      "source": [
        "#1. 運用上列array計算反矩陣，乘上原矩陣，並觀察是否為單位矩陣?\r\n",
        "array1 = np.array([[10, 8], [3, 5]])"
      ],
      "execution_count": 2,
      "outputs": []
    },
    {
      "cell_type": "code",
      "metadata": {
        "id": "Ea9ThIY63Oj6"
      },
      "source": [
        "#反矩陣\n",
        "inv_array1 = np.linalg.inv(array1)"
      ],
      "execution_count": 3,
      "outputs": []
    },
    {
      "cell_type": "code",
      "metadata": {
        "colab": {
          "base_uri": "https://localhost:8080/"
        },
        "id": "WN49NpGh3lKG",
        "outputId": "36d943ed-fe0c-4d91-c6ad-ef3049404b76"
      },
      "source": [
        "np.dot(inv_array1, array1)"
      ],
      "execution_count": 7,
      "outputs": [
        {
          "output_type": "execute_result",
          "data": {
            "text/plain": [
              "array([[ 1.00000000e+00, -5.55111512e-17],\n",
              "       [-1.11022302e-16,  1.00000000e+00]])"
            ]
          },
          "metadata": {
            "tags": []
          },
          "execution_count": 7
        }
      ]
    },
    {
      "cell_type": "code",
      "metadata": {
        "id": "9f7cVxwwk-y9"
      },
      "source": [
        "#2. 運用上列array計算特徵值、特徵向量?\n",
        "w, v = np.linalg.eig(array1)"
      ],
      "execution_count": 8,
      "outputs": []
    },
    {
      "cell_type": "code",
      "metadata": {
        "colab": {
          "base_uri": "https://localhost:8080/"
        },
        "id": "WMAN8xUx4j-A",
        "outputId": "68531bf3-75c1-41ba-c063-91062d693982"
      },
      "source": [
        "w"
      ],
      "execution_count": 11,
      "outputs": [
        {
          "output_type": "execute_result",
          "data": {
            "text/plain": [
              "array([13.,  2.])"
            ]
          },
          "metadata": {
            "tags": []
          },
          "execution_count": 11
        }
      ]
    },
    {
      "cell_type": "code",
      "metadata": {
        "colab": {
          "base_uri": "https://localhost:8080/"
        },
        "id": "gU-Tht044eTN",
        "outputId": "a3cc5f25-568d-47ee-a889-270464d7cad6"
      },
      "source": [
        "v"
      ],
      "execution_count": 10,
      "outputs": [
        {
          "output_type": "execute_result",
          "data": {
            "text/plain": [
              "array([[ 0.93632918, -0.70710678],\n",
              "       [ 0.35112344,  0.70710678]])"
            ]
          },
          "metadata": {
            "tags": []
          },
          "execution_count": 10
        }
      ]
    },
    {
      "cell_type": "code",
      "metadata": {
        "id": "OHSs5etxnL8D"
      },
      "source": [
        "#3. 運用上列array計算SVD?\n",
        "u, s, vh = np.linalg.svd(array1)"
      ],
      "execution_count": 12,
      "outputs": []
    },
    {
      "cell_type": "code",
      "metadata": {
        "id": "5BaVZFRvpXZo",
        "colab": {
          "base_uri": "https://localhost:8080/"
        },
        "outputId": "edbc7611-1542-4f43-c972-1eee645ef96a"
      },
      "source": [
        "u"
      ],
      "execution_count": 13,
      "outputs": [
        {
          "output_type": "execute_result",
          "data": {
            "text/plain": [
              "array([[-0.91663818, -0.39971796],\n",
              "       [-0.39971796,  0.91663818]])"
            ]
          },
          "metadata": {
            "tags": []
          },
          "execution_count": 13
        }
      ]
    },
    {
      "cell_type": "code",
      "metadata": {
        "colab": {
          "base_uri": "https://localhost:8080/"
        },
        "id": "5p0vKQfd4yGs",
        "outputId": "a9925956-b3b3-4d61-d935-38c7f818cd7f"
      },
      "source": [
        "s"
      ],
      "execution_count": 14,
      "outputs": [
        {
          "output_type": "execute_result",
          "data": {
            "text/plain": [
              "array([13.94721714,  1.86417116])"
            ]
          },
          "metadata": {
            "tags": []
          },
          "execution_count": 14
        }
      ]
    },
    {
      "cell_type": "code",
      "metadata": {
        "colab": {
          "base_uri": "https://localhost:8080/"
        },
        "id": "qbm1-kcI4zD7",
        "outputId": "b2b12a4e-3a64-4909-fb06-81445ac45a67"
      },
      "source": [
        "vh"
      ],
      "execution_count": 15,
      "outputs": [
        {
          "output_type": "execute_result",
          "data": {
            "text/plain": [
              "array([[-0.74319741, -0.6690722 ],\n",
              "       [-0.6690722 ,  0.74319741]])"
            ]
          },
          "metadata": {
            "tags": []
          },
          "execution_count": 15
        }
      ]
    },
    {
      "cell_type": "code",
      "metadata": {
        "id": "AJ_9-IPW4zuQ"
      },
      "source": [
        ""
      ],
      "execution_count": null,
      "outputs": []
    }
  ]
}