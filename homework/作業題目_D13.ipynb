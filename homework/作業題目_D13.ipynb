{
  "nbformat": 4,
  "nbformat_minor": 0,
  "metadata": {
    "colab": {
      "name": "作業題目_D13.ipynb",
      "provenance": [],
      "collapsed_sections": [],
      "include_colab_link": true
    },
    "kernelspec": {
      "name": "python3",
      "display_name": "Python 3"
    }
  },
  "cells": [
    {
      "cell_type": "markdown",
      "metadata": {
        "id": "view-in-github",
        "colab_type": "text"
      },
      "source": [
        "<a href=\"https://colab.research.google.com/github/keliwu5/ML100Days/blob/main/homework/%E4%BD%9C%E6%A5%AD%E9%A1%8C%E7%9B%AE_D13.ipynb\" target=\"_parent\"><img src=\"https://colab.research.google.com/assets/colab-badge.svg\" alt=\"Open In Colab\"/></a>"
      ]
    },
    {
      "cell_type": "markdown",
      "metadata": {
        "id": "QSGBlxpAWNEz"
      },
      "source": [
        "作業目標:<br>\r\n",
        "1. 敘述統計量計算<br>\r\n",
        "2. 運用自定義函數apply"
      ]
    },
    {
      "cell_type": "markdown",
      "metadata": {
        "id": "1Pl9tfEoWow-"
      },
      "source": [
        "作業重點:<br>\r\n",
        "1. 了解敘述統計量並解釋<br>\r\n",
        "2. 運用apply時須注意自定義函數寫法"
      ]
    },
    {
      "cell_type": "markdown",
      "metadata": {
        "id": "vKZoLUflW-A2"
      },
      "source": [
        "題目<br>\n",
        "對以下成績資料做分析<br>\n",
        "1. 6號學生(student_id=6)3科平均分數為何?<br>\n",
        "2. 6號學生3科平均分數是否有贏過班上一半的同學?<br>\n",
        "3. 由於班上同學成績不好，所以學校統一加分，加分方式為開根號乘以十，請問6號同學3科成績分別是?<br>\n",
        "4. 承上題，加分後各科班平均變多少?\n",
        "<br>\n",
        "score_df = pd.DataFrame([[1,56,66,70], \n",
        "              [2,90,45,34],\n",
        "              [3,45,32,55],\n",
        "              [4,70,77,89],\n",
        "              [5,56,80,70],\n",
        "              [6,60,54,55],\n",
        "              [7,45,70,79],\n",
        "              [8,34,77,76],\n",
        "              [9,25,87,60],\n",
        "              [10,88,40,43]],columns=['student_id','math_score','english_score','chinese_score'])"
      ]
    },
    {
      "cell_type": "code",
      "metadata": {
        "colab": {
          "base_uri": "https://localhost:8080/",
          "height": 390
        },
        "id": "cQGrCL4-YxE6",
        "outputId": "5ed1c8b2-1a3e-46aa-d9c2-cb85d1f1ca17"
      },
      "source": [
        "import pandas as pd\n",
        "score_df = pd.DataFrame([[1,56,66,70], \n",
        "              [2,90,45,34],\n",
        "              [3,45,32,55],\n",
        "              [4,70,77,89],\n",
        "              [5,56,80,70],\n",
        "              [6,60,54,55],\n",
        "              [7,45,70,79],\n",
        "              [8,34,77,76],\n",
        "              [9,25,87,60],\n",
        "              [10,88,40,43]],columns=['student_id','math_score','english_score','chinese_score'])\n",
        "score_df = score_df.set_index('student_id')\n",
        "score_df"
      ],
      "execution_count": 12,
      "outputs": [
        {
          "output_type": "execute_result",
          "data": {
            "text/html": [
              "<div>\n",
              "<style scoped>\n",
              "    .dataframe tbody tr th:only-of-type {\n",
              "        vertical-align: middle;\n",
              "    }\n",
              "\n",
              "    .dataframe tbody tr th {\n",
              "        vertical-align: top;\n",
              "    }\n",
              "\n",
              "    .dataframe thead th {\n",
              "        text-align: right;\n",
              "    }\n",
              "</style>\n",
              "<table border=\"1\" class=\"dataframe\">\n",
              "  <thead>\n",
              "    <tr style=\"text-align: right;\">\n",
              "      <th></th>\n",
              "      <th>math_score</th>\n",
              "      <th>english_score</th>\n",
              "      <th>chinese_score</th>\n",
              "    </tr>\n",
              "    <tr>\n",
              "      <th>student_id</th>\n",
              "      <th></th>\n",
              "      <th></th>\n",
              "      <th></th>\n",
              "    </tr>\n",
              "  </thead>\n",
              "  <tbody>\n",
              "    <tr>\n",
              "      <th>1</th>\n",
              "      <td>56</td>\n",
              "      <td>66</td>\n",
              "      <td>70</td>\n",
              "    </tr>\n",
              "    <tr>\n",
              "      <th>2</th>\n",
              "      <td>90</td>\n",
              "      <td>45</td>\n",
              "      <td>34</td>\n",
              "    </tr>\n",
              "    <tr>\n",
              "      <th>3</th>\n",
              "      <td>45</td>\n",
              "      <td>32</td>\n",
              "      <td>55</td>\n",
              "    </tr>\n",
              "    <tr>\n",
              "      <th>4</th>\n",
              "      <td>70</td>\n",
              "      <td>77</td>\n",
              "      <td>89</td>\n",
              "    </tr>\n",
              "    <tr>\n",
              "      <th>5</th>\n",
              "      <td>56</td>\n",
              "      <td>80</td>\n",
              "      <td>70</td>\n",
              "    </tr>\n",
              "    <tr>\n",
              "      <th>6</th>\n",
              "      <td>60</td>\n",
              "      <td>54</td>\n",
              "      <td>55</td>\n",
              "    </tr>\n",
              "    <tr>\n",
              "      <th>7</th>\n",
              "      <td>45</td>\n",
              "      <td>70</td>\n",
              "      <td>79</td>\n",
              "    </tr>\n",
              "    <tr>\n",
              "      <th>8</th>\n",
              "      <td>34</td>\n",
              "      <td>77</td>\n",
              "      <td>76</td>\n",
              "    </tr>\n",
              "    <tr>\n",
              "      <th>9</th>\n",
              "      <td>25</td>\n",
              "      <td>87</td>\n",
              "      <td>60</td>\n",
              "    </tr>\n",
              "    <tr>\n",
              "      <th>10</th>\n",
              "      <td>88</td>\n",
              "      <td>40</td>\n",
              "      <td>43</td>\n",
              "    </tr>\n",
              "  </tbody>\n",
              "</table>\n",
              "</div>"
            ],
            "text/plain": [
              "            math_score  english_score  chinese_score\n",
              "student_id                                          \n",
              "1                   56             66             70\n",
              "2                   90             45             34\n",
              "3                   45             32             55\n",
              "4                   70             77             89\n",
              "5                   56             80             70\n",
              "6                   60             54             55\n",
              "7                   45             70             79\n",
              "8                   34             77             76\n",
              "9                   25             87             60\n",
              "10                  88             40             43"
            ]
          },
          "metadata": {
            "tags": []
          },
          "execution_count": 12
        }
      ]
    },
    {
      "cell_type": "markdown",
      "metadata": {
        "id": "ccoHCQjK-Wix"
      },
      "source": [
        ""
      ]
    },
    {
      "cell_type": "code",
      "metadata": {
        "id": "qNfiH_CnY3Us",
        "colab": {
          "base_uri": "https://localhost:8080/"
        },
        "outputId": "7bdabaa7-6a0a-43fd-d9ec-f729cbb0edd4"
      },
      "source": [
        "#1.6號學生(student_id=6)3科平均分數為何?\n",
        "score_df.loc[6].mean()"
      ],
      "execution_count": 42,
      "outputs": [
        {
          "output_type": "execute_result",
          "data": {
            "text/plain": [
              "56.333333333333336"
            ]
          },
          "metadata": {
            "tags": []
          },
          "execution_count": 42
        }
      ]
    },
    {
      "cell_type": "code",
      "metadata": {
        "id": "O-TfIm7oaAao",
        "colab": {
          "base_uri": "https://localhost:8080/"
        },
        "outputId": "4290e398-2aa8-48ac-b922-2f11e61aa9e0"
      },
      "source": [
        "#2. 6號學生3科平均分數是否有贏過班上一半的同學\n",
        "score_df.loc[6].mean() > score_df.median().mean()"
      ],
      "execution_count": 46,
      "outputs": [
        {
          "output_type": "execute_result",
          "data": {
            "text/plain": [
              "False"
            ]
          },
          "metadata": {
            "tags": []
          },
          "execution_count": 46
        }
      ]
    },
    {
      "cell_type": "code",
      "metadata": {
        "id": "QNA0WHCIapPB"
      },
      "source": [
        "#由於班上同學成績不好，所以學校統一加分，加分方式為開根號乘以十，請問6號同學3科成績分別是?\n",
        "lamda_df = (score_df.loc[6]**0.5)*10"
      ],
      "execution_count": 49,
      "outputs": []
    },
    {
      "cell_type": "code",
      "metadata": {
        "colab": {
          "base_uri": "https://localhost:8080/"
        },
        "id": "j93CntY_c8qc",
        "outputId": "5a7752bc-3990-4e66-b953-50e5a4890486"
      },
      "source": [
        "lamda_df"
      ],
      "execution_count": 50,
      "outputs": [
        {
          "output_type": "execute_result",
          "data": {
            "text/plain": [
              "math_score       77.459667\n",
              "english_score    73.484692\n",
              "chinese_score    74.161985\n",
              "Name: 6, dtype: float64"
            ]
          },
          "metadata": {
            "tags": []
          },
          "execution_count": 50
        }
      ]
    },
    {
      "cell_type": "code",
      "metadata": {
        "id": "BG_bdbRFa6X4"
      },
      "source": [
        "#承上題，加分後各科班平均變多少"
      ],
      "execution_count": null,
      "outputs": []
    },
    {
      "cell_type": "code",
      "metadata": {
        "id": "2ZtRukpObNZx"
      },
      "source": [
        "lamda_all_df = ((score_df**0.5)*10)"
      ],
      "execution_count": 52,
      "outputs": []
    },
    {
      "cell_type": "code",
      "metadata": {
        "colab": {
          "base_uri": "https://localhost:8080/"
        },
        "id": "wtONBReydRuB",
        "outputId": "451d8bd6-00cd-4e79-ac5c-db2f2c87b16a"
      },
      "source": [
        "lamda_all_df.mean()"
      ],
      "execution_count": 54,
      "outputs": [
        {
          "output_type": "execute_result",
          "data": {
            "text/plain": [
              "math_score       74.194221\n",
              "english_score    78.350301\n",
              "chinese_score    78.739928\n",
              "dtype: float64"
            ]
          },
          "metadata": {
            "tags": []
          },
          "execution_count": 54
        }
      ]
    },
    {
      "cell_type": "code",
      "metadata": {
        "id": "0OHTYfindWR6"
      },
      "source": [
        ""
      ],
      "execution_count": null,
      "outputs": []
    }
  ]
}