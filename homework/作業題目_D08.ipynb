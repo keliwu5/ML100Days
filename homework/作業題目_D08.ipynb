{
  "nbformat": 4,
  "nbformat_minor": 0,
  "metadata": {
    "colab": {
      "name": "作業題目_D08.ipynb",
      "provenance": [],
      "collapsed_sections": [],
      "include_colab_link": true
    },
    "kernelspec": {
      "name": "python3",
      "display_name": "Python 3"
    }
  },
  "cells": [
    {
      "cell_type": "markdown",
      "metadata": {
        "id": "view-in-github",
        "colab_type": "text"
      },
      "source": [
        "<a href=\"https://colab.research.google.com/github/keliwu5/ML100Days/blob/main/homework/%E4%BD%9C%E6%A5%AD%E9%A1%8C%E7%9B%AE_D08.ipynb\" target=\"_parent\"><img src=\"https://colab.research.google.com/assets/colab-badge.svg\" alt=\"Open In Colab\"/></a>"
      ]
    },
    {
      "cell_type": "code",
      "metadata": {
        "id": "4klYNT34p73l"
      },
      "source": [
        ""
      ],
      "execution_count": null,
      "outputs": []
    },
    {
      "cell_type": "markdown",
      "metadata": {
        "id": "9qndwAG5UAKi"
      },
      "source": [
        "作業目標<br>\r\n",
        "在一個陣列中放入多屬性陣列，進一步對陣列做運算<br>\r\n",
        "作業重點<br>\r\n",
        "在建立結構化陣列前需要先設定屬性，在做運算時須注意資料屬性"
      ]
    },
    {
      "cell_type": "markdown",
      "metadata": {
        "id": "48DhzHvBUB2c"
      },
      "source": [
        "題目:<br>\r\n",
        "name_list = ['小明','小華','小菁','小美','小張','John','Mark','Tom']<br>\r\n",
        "sex_list = ['boy','boy','girl','girl','boy','boy','boy','boy']<br>\r\n",
        "weight_list = [67.5,75.3,50.1,45.5,80.8,90.4,78.4,70.7]<br>\r\n",
        "rank_list = [8,1,5,4,7,6,2,3]<br>\r\n",
        "myopia_list = [True,True,False,False,True,True,False,False]<br>\r\n",
        "1. 將上列list依照['name', 'sex', 'weight', 'rank', 'myopia']順序擺入array，並且資料型態順序擺入[Unicode,Unicode,float,int,boolean]<br>\r\n",
        "2. 呈上題，將array中體重(weight)數據集取出算出全部平均體重\r\n",
        "3. 呈上題，進一步算出男生(sex欄位是boy)平均體重、女生(sex欄位是girl)平均體重\r\n"
      ]
    },
    {
      "cell_type": "code",
      "metadata": {
        "id": "5n4rAx-9VgVr"
      },
      "source": [
        "import numpy as np "
      ],
      "execution_count": 1,
      "outputs": []
    },
    {
      "cell_type": "code",
      "metadata": {
        "id": "Vl-wSYQdUBcw"
      },
      "source": [
        "name_list = ['小明','小華','小菁','小美','小張','John','Mark','Tom']\r\n",
        "sex_list = ['boy','boy','girl','girl','boy','boy','boy','boy']\r\n",
        "weight_list = [67.5,75.3,50.1,45.5,80.8,90.4,78.4,70.7]\r\n",
        "rank_list = [8,1,5,4,7,6,2,3]\r\n",
        "myopia_list = [True,True,False,False,True,True,False,False]"
      ],
      "execution_count": 2,
      "outputs": []
    },
    {
      "cell_type": "code",
      "metadata": {
        "id": "ElavkYgwVftG"
      },
      "source": [
        "#1. 將上列list依照['name', 'sex', 'weight', 'rank', 'myopia']順序擺入array，並且資料型態順序擺入[Unicode,Unicode,float,int,boolean]\n",
        "dt = np.dtype({'names':('name','sex','weig','rank','myopia'), 'formats':((np.str_, 5), (np.str_, 4), np.float64, int, 'U5')})\n",
        "a = np.zeros(8, dtype=dt)\n",
        "a['name'] = name_list\n",
        "a['sex'] = sex_list\n",
        "a['weig'] = weight_list\n",
        "a['rank'] = rank_list\n",
        "a['myopia'] = myopia_list"
      ],
      "execution_count": 10,
      "outputs": []
    },
    {
      "cell_type": "code",
      "metadata": {
        "id": "N-xffNSVWbP1"
      },
      "source": [
        "#2. 呈上題，將array中體重(weight)數據集取出算出全部平均體重\n",
        "weig_array = a['weig']"
      ],
      "execution_count": 16,
      "outputs": []
    },
    {
      "cell_type": "code",
      "metadata": {
        "colab": {
          "base_uri": "https://localhost:8080/"
        },
        "id": "6cemm7Unteac",
        "outputId": "9940e7ec-fe1d-4bf2-d2ba-19cd7f96da54"
      },
      "source": [
        "mean_weight = weig_array.mean()\n",
        "print('mean weight : '+str(mean_weight))"
      ],
      "execution_count": 33,
      "outputs": [
        {
          "output_type": "stream",
          "text": [
            "mean weight : 69.8375\n"
          ],
          "name": "stdout"
        }
      ]
    },
    {
      "cell_type": "code",
      "metadata": {
        "id": "BdQ0Y4opvfmo"
      },
      "source": [
        ""
      ],
      "execution_count": null,
      "outputs": []
    },
    {
      "cell_type": "code",
      "metadata": {
        "id": "_LhLg8RiWwEm",
        "colab": {
          "base_uri": "https://localhost:8080/"
        },
        "outputId": "bc1d2a0c-5e6f-4d5f-d43b-d13cd6ae5823"
      },
      "source": [
        "#3. 呈上題，進一步算出男生(sex欄位是boy)平均體重\n",
        "boy_weig_array = a[a['sex']=='boy']['weig']\n",
        "boy_mean_weight = boy_weig_array.mean()\n",
        "print('boys mean weight : '+ str(boy_mean_weight))"
      ],
      "execution_count": 39,
      "outputs": [
        {
          "output_type": "stream",
          "text": [
            "boys mean weight : 77.18333333333332\n"
          ],
          "name": "stdout"
        }
      ]
    },
    {
      "cell_type": "code",
      "metadata": {
        "id": "f_J05IPxX6fg",
        "colab": {
          "base_uri": "https://localhost:8080/"
        },
        "outputId": "b2f6a2ec-25fc-4b8f-c102-140e250d78b2"
      },
      "source": [
        "#3. 呈上題，進一步算出女生(sex欄位是girl)平均體重\n",
        "girl_weig_array = a[a['sex']=='girl']['weig']\n",
        "girl_mean_weight = girl_weig_array.mean()\n",
        "print('girls mean weight : '+ str(girl_mean_weight))"
      ],
      "execution_count": 43,
      "outputs": [
        {
          "output_type": "stream",
          "text": [
            "girls mean weight : 47.8\n"
          ],
          "name": "stdout"
        }
      ]
    }
  ]
}