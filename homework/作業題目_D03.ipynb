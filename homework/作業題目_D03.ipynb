{
  "nbformat": 4,
  "nbformat_minor": 0,
  "metadata": {
    "colab": {
      "name": "作業題目_D03.ipynb",
      "provenance": [],
      "collapsed_sections": [],
      "include_colab_link": true
    },
    "kernelspec": {
      "name": "python3",
      "display_name": "Python 3"
    }
  },
  "cells": [
    {
      "cell_type": "markdown",
      "metadata": {
        "id": "view-in-github",
        "colab_type": "text"
      },
      "source": [
        "<a href=\"https://colab.research.google.com/github/keliwu5/ML100Days/blob/main/homework/%E4%BD%9C%E6%A5%AD%E9%A1%8C%E7%9B%AE_D03.ipynb\" target=\"_parent\"><img src=\"https://colab.research.google.com/assets/colab-badge.svg\" alt=\"Open In Colab\"/></a>"
      ]
    },
    {
      "cell_type": "markdown",
      "metadata": {
        "id": "rY2oyzUo2wKZ"
      },
      "source": [
        "作業目標:<br>\r\n",
        "嘗試練習log的函式並應用<br>\r\n",
        "作業重點:<br>\r\n",
        "學員需要複習log的轉換方式<br>\r\n",
        "熟悉運用指數函數以及對數函數"
      ]
    },
    {
      "cell_type": "markdown",
      "metadata": {
        "id": "Esjhs7zz2y95"
      },
      "source": [
        "題目:<br>\r\n",
        "運用投影片中的分貝公式回答下列問題。<br>\r\n",
        "1.正常的談話的聲壓為20000微巴斯卡，請問多少分貝?<br>\r\n",
        "2.30分貝的聲壓會是50分貝的幾倍?\r\n"
      ]
    },
    {
      "cell_type": "code",
      "metadata": {
        "id": "SKVoN9E82yQi"
      },
      "source": [
        "import numpy as np "
      ],
      "execution_count": 1,
      "outputs": []
    },
    {
      "cell_type": "code",
      "metadata": {
        "id": "knBzIEbisYO_",
        "colab": {
          "base_uri": "https://localhost:8080/"
        },
        "outputId": "1be6e161-b641-450b-c06a-dfea7aae6507"
      },
      "source": [
        "#1.正常的談話的聲壓為20000微巴斯卡，請問多少分貝?\r\n",
        "#請寫下程式\r\n",
        "V1 = 20000\r\n",
        "V0 = 20\r\n",
        "20*np.log10(V1/V0)"
      ],
      "execution_count": 3,
      "outputs": [
        {
          "output_type": "execute_result",
          "data": {
            "text/plain": [
              "60.0"
            ]
          },
          "metadata": {
            "tags": []
          },
          "execution_count": 3
        }
      ]
    },
    {
      "cell_type": "code",
      "metadata": {
        "id": "5Vknqg8esbl_"
      },
      "source": [
        "#2.30分貝的聲壓會是50分貝的幾倍?\r\n",
        "#公式移項過後可以得到 V1 = ?\r\n",
        "#30分貝的聲壓\r\n",
        "upa1 = np.power(10,1.5)*20\r\n",
        "#50分貝的聲壓\r\n",
        "upa2 = np.power(10,2.5)*20\r\n"
      ],
      "execution_count": 10,
      "outputs": []
    },
    {
      "cell_type": "code",
      "metadata": {
        "id": "LjGnv4Q-1t7u",
        "colab": {
          "base_uri": "https://localhost:8080/"
        },
        "outputId": "a97ae445-1d0e-4d96-e5dc-c69fbc586d91"
      },
      "source": [
        "#(way1)30分貝的聲壓會是50分貝的幾倍?\n",
        "upa1/upa2"
      ],
      "execution_count": 9,
      "outputs": [
        {
          "output_type": "execute_result",
          "data": {
            "text/plain": [
              "0.09999999999999999"
            ]
          },
          "metadata": {
            "tags": []
          },
          "execution_count": 9
        }
      ]
    },
    {
      "cell_type": "code",
      "metadata": {
        "id": "4iQU09ZrngCY"
      },
      "source": [
        "#(way2)30分貝的聲壓會是50分貝的幾倍?\n",
        "#30db - 50db = -20db\n",
        "#-20 = 20 log10(upa1/upa2)\n",
        "#upa1/upa2 = 10^(-1)=0.1\n",
        "x = 10**(-1)"
      ],
      "execution_count": 17,
      "outputs": []
    },
    {
      "cell_type": "code",
      "metadata": {
        "colab": {
          "base_uri": "https://localhost:8080/"
        },
        "id": "7lC9VV25nnZQ",
        "outputId": "f6f3d709-5449-4732-ed6e-cdd822728166"
      },
      "source": [
        "x"
      ],
      "execution_count": 18,
      "outputs": [
        {
          "output_type": "execute_result",
          "data": {
            "text/plain": [
              "0.1"
            ]
          },
          "metadata": {
            "tags": []
          },
          "execution_count": 18
        }
      ]
    },
    {
      "cell_type": "code",
      "metadata": {
        "id": "Thg50DCQrB1P"
      },
      "source": [
        ""
      ],
      "execution_count": null,
      "outputs": []
    }
  ]
}