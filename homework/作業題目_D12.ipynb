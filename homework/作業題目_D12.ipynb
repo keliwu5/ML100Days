{
  "nbformat": 4,
  "nbformat_minor": 0,
  "metadata": {
    "colab": {
      "name": "作業題目_D12.ipynb",
      "provenance": [],
      "collapsed_sections": [],
      "include_colab_link": true
    },
    "kernelspec": {
      "name": "python3",
      "display_name": "Python 3"
    }
  },
  "cells": [
    {
      "cell_type": "markdown",
      "metadata": {
        "id": "view-in-github",
        "colab_type": "text"
      },
      "source": [
        "<a href=\"https://colab.research.google.com/github/keliwu5/ML100Days/blob/main/homework/%E4%BD%9C%E6%A5%AD%E9%A1%8C%E7%9B%AE_D12.ipynb\" target=\"_parent\"><img src=\"https://colab.research.google.com/assets/colab-badge.svg\" alt=\"Open In Colab\"/></a>"
      ]
    },
    {
      "cell_type": "markdown",
      "metadata": {
        "id": "9ckBC4qSFJ2u"
      },
      "source": [
        "作業目標:<br>\r\n",
        "1. 靈活運用圖表在各種情況下\r\n",
        "2. 圖表的解讀"
      ]
    },
    {
      "cell_type": "markdown",
      "metadata": {
        "id": "wkssN_r7UT2o"
      },
      "source": [
        "作業重點:<br>\r\n",
        "1. 依據需求畫出圖表<br>\r\n",
        "2. 在做圖表解釋時，須了解圖表中的含意"
      ]
    },
    {
      "cell_type": "markdown",
      "metadata": {
        "id": "B9B8LGwLFORw"
      },
      "source": [
        "題目 : 將資料夾中boston.csv讀進來，並用圖表分析欄位。<br>\r\n",
        "1.畫出箱型圖，並判斷哪個欄位的中位數在300~400之間?<br>\r\n",
        "2.畫出散佈圖 x='NOX', y='DIS' ，並說明這兩欄位有什麼關係?\r\n"
      ]
    },
    {
      "cell_type": "code",
      "metadata": {
        "id": "8EK9ei8pFNNd"
      },
      "source": [
        "import pandas as pd\r\n",
        "import numpy as np\r\n",
        "import os"
      ],
      "execution_count": 1,
      "outputs": []
    },
    {
      "cell_type": "code",
      "metadata": {
        "colab": {
          "base_uri": "https://localhost:8080/"
        },
        "id": "a6GwKkh5msRX",
        "outputId": "e191609e-bc8d-4b0e-c0cd-1e2613591dc8"
      },
      "source": [
        "from google.colab import drive\n",
        "drive.mount('/content/drive/')\n"
      ],
      "execution_count": 7,
      "outputs": [
        {
          "output_type": "stream",
          "text": [
            "Mounted at /content/drive/\n"
          ],
          "name": "stdout"
        }
      ]
    },
    {
      "cell_type": "code",
      "metadata": {
        "id": "eBVH5T2cv6v8"
      },
      "source": [
        "os.chdir(\"/content/drive/My Drive/\")"
      ],
      "execution_count": 14,
      "outputs": []
    },
    {
      "cell_type": "code",
      "metadata": {
        "colab": {
          "base_uri": "https://localhost:8080/",
          "height": 37
        },
        "id": "XC74qWW3yng6",
        "outputId": "1fe5daaa-ddd7-4f59-db6f-f608fcb99b58"
      },
      "source": [
        "os.getcwd()"
      ],
      "execution_count": 15,
      "outputs": [
        {
          "output_type": "execute_result",
          "data": {
            "application/vnd.google.colaboratory.intrinsic+json": {
              "type": "string"
            },
            "text/plain": [
              "'/content/drive/My Drive'"
            ]
          },
          "metadata": {
            "tags": []
          },
          "execution_count": 15
        }
      ]
    },
    {
      "cell_type": "code",
      "metadata": {
        "colab": {
          "base_uri": "https://localhost:8080/"
        },
        "id": "UhozRjQfypvJ",
        "outputId": "f00a9894-e416-4e94-be42-6d330e4fcaa8"
      },
      "source": [
        "!ls"
      ],
      "execution_count": 16,
      "outputs": [
        {
          "output_type": "stream",
          "text": [
            " 01_風險管理與業務衝擊分析教育訓練_教材_1090303.pdf\n",
            "'0407家慧(第九組)實證護理應用讀書會研究計畫撰寫-1 (1).doc'\n",
            "'0407家慧(第九組)實證護理應用讀書會研究計畫撰寫-1 (2).doc'\n",
            "'0407家慧(第九組)實證護理應用讀書會研究計畫撰寫-1.doc'\n",
            " 0514利用口服益生菌是否可以改善成人便秘文獻書面檔.doc\n",
            " 0514利用口服益生菌是否可以改善成人便秘文獻書面檔.gdoc\n",
            "'0516雪菁)利用口服益生菌是否可以改善成人便秘書面檔-1.doc'\n",
            "'0516雪菁)利用口服益生菌是否可以改善成人便秘書面檔.doc'\n",
            " 0519利用口服益生菌是否可以改善成人便秘書面檔-1.doc\n",
            " 0522利用口服益生菌是否可以改善成人便秘書面檔-2.doc\n",
            "'0601(第九組)利用口服益生菌是否可以改善成人便秘書面檔.doc'\n",
            "'0606(第九組)利用口服益生菌是否可以改善成人便秘書面檔.doc'\n",
            "'0611統計(第九組)利用口服益生菌是否可以改善成人便秘書面檔.doc'\n",
            " 0820利用口服益生菌是否可以改善成人便秘.doc\n",
            "'(0914家慧)PDA研發報告constipation.docx'\n",
            "'(0914家慧)醫病共享決策輔助constipation.docx'\n",
            " 108年專師訪視記錄20190905.docx\n",
            " 108年專科護理師訓練醫院認定訪視自評表-20190828.docx\n",
            "'109年年終考核空白單 (1).gdoc'\n",
            "'109年年終考核空白單 (2).gdoc'\n",
            " 109年年終考核空白單.doc\n",
            " 109年年終考核空白單.gdoc\n",
            " 1387AScTtF9hTer0NQJZIT.jpeg\n",
            " 1452344539957.csv\n",
            " 1452344539957.csv.gsheet\n",
            " 16830903-201804-201803200014-201803200014-1-13.pdf\n",
            "'181224 報價單210-20181224002(智高網站-吳丁昌).pdf'\n",
            " 2018沖繩.gmap\n",
            " 2018沖繩景點.gmap\n",
            "'2019.5.14病房在職教育考題(急慢性腎衰竭).doc'\n",
            " 4.維運安全管理_1040409.pdf\n",
            " 73-3927082_10402_notification.pdf\n",
            "'7-Eleven 2.m4a'\n",
            "'7-Eleven 3.m4a'\n",
            "'7-Eleven 4 (1).m4a'\n",
            "'7-Eleven 4.m4a'\n",
            " 7-Eleven.m4a\n",
            " Anaconda3-4.2.0-Windows-x86.exe\n",
            " arduino\n",
            " Attachment-1.jpeg\n",
            "'Colab Notebooks'\n",
            "'CV_衝刺班_0319 (1).gslides'\n",
            "'CV_衝刺班_0319 (2).gslides'\n",
            " CV_衝刺班_0319.gslides\n",
            " CV_衝刺班_0319.pptx\n",
            " data\n",
            "'EBN文獻翻譯 (1).dot'\n",
            " EBN文獻翻譯.dot\n",
            " ill_record.xlsx\n",
            " IMG_4111.JPG\n",
            " IMG_6288.MOV\n",
            " IMG_6290.MOV\n",
            "'meta analysis probiotic onstipation0215.pdf'\n",
            " mp3\n",
            "'MSER network topology_20150831.vsd'\n",
            " Notability\n",
            " np3_journal\n",
            " NP胸部與呼吸系統常見問題之評估.pdf\n",
            "'PDA研發報告constipation (1).docx'\n",
            " PDA研發報告constipation.docx\n",
            " piano\n",
            " ptcg卡表\n",
            " Python程式語言基礎班.7z\n",
            " readme.txt\n",
            " RevMan_5_3_windows-x64.zip\n",
            "'Securezone建置與安全管理(104年版).pdf'\n",
            " Takeout\n",
            " Untitled\n",
            "'Untitled form [Form].gform'\n",
            "'Untitled form.gsheet'\n",
            " WriteCF.txt\n",
            " xmind\n",
            " 京都自由行.gmap\n",
            "'備份 2021-02-02 (1).zip'\n",
            "'備份 2021-02-02 (2).zip'\n",
            "'備份 2021-02-02.zip'\n",
            " 兒童故事\n",
            "'公司 2.m4a'\n",
            "'利用口服益生菌是否可以改善老人便秘 (1).doc'\n",
            "'利用口服益生菌是否可以改善老人便秘 (3).doc'\n",
            " 利用口服益生菌是否可以改善老人便秘.doc\n",
            " 南分公司98年創新『訓練競賽活動』計劃.gdoc\n",
            " 國小\n",
            "'安全維運實務分享(104年版).pdf'\n",
            "'(家慧版2)20200622護理實證－專師組.pptx'\n",
            " 專科護理師影像學診斷_2019_11_28.pdf\n",
            " 待洗照片\n",
            "'教養快樂孩子12招_(2).ppt'\n",
            "'教養快樂孩子12招_(2).ppt.gslides'\n",
            " 旅遊\n",
            " 書面報告範例.pdf\n",
            " 無標題.gmap\n",
            "'病房在職教育教學計畫(2019急慢性腎衰竭).doc'\n",
            "'第九專師組20200320護理實證(口報後修改版)－.gslides'\n",
            "'(第九組)利用口服益生菌是否可以改善成人便秘書面檔-2 (1).doc'\n",
            "'(第九組)利用口服益生菌是否可以改善成人便秘書面檔-2.doc'\n",
            "'(第九組)利用口服益生菌是否可以改善成人便秘書面檔-2.gdoc'\n",
            " 老人益生菌.txt\n",
            " 英文\n",
            " 評鑑紀錄.docx\n",
            " 說明會主題AU.rar\n",
            " 資安與個資風險評鑑工具.xlsm\n",
            "'醫病共享決策輔助constipation (1).docx'\n",
            " 醫病共享決策輔助constipation.docx\n",
            " 附件02、【競賽摘要表】2020年constipation.docx\n",
            "'高雄市公共腳踏車 高雄榮總站 (1).m4a'\n",
            "'高雄市公共腳踏車 高雄榮總站.m4a'\n"
          ],
          "name": "stdout"
        }
      ]
    },
    {
      "cell_type": "code",
      "metadata": {
        "id": "j8oG-3XJGECZ"
      },
      "source": [
        "#1.畫出箱型圖，並判斷哪個欄位的中位數在300~400之間?"
      ],
      "execution_count": null,
      "outputs": []
    },
    {
      "cell_type": "code",
      "metadata": {
        "id": "1YrW_1o9MXUy"
      },
      "source": [
        "#2. 畫出散佈圖 x='NOX', y='DIS' ，並說明這兩欄位有什麼關係?"
      ],
      "execution_count": null,
      "outputs": []
    }
  ]
}