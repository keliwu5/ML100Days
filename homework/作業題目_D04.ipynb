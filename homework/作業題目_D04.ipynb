{
  "nbformat": 4,
  "nbformat_minor": 0,
  "metadata": {
    "colab": {
      "name": "作業題目_D04.ipynb",
      "provenance": [],
      "collapsed_sections": [],
      "include_colab_link": true
    },
    "kernelspec": {
      "name": "python3",
      "display_name": "Python 3"
    }
  },
  "cells": [
    {
      "cell_type": "markdown",
      "metadata": {
        "id": "view-in-github",
        "colab_type": "text"
      },
      "source": [
        "<a href=\"https://colab.research.google.com/github/keliwu5/ML100Days/blob/main/homework/%E4%BD%9C%E6%A5%AD%E9%A1%8C%E7%9B%AE_D04.ipynb\" target=\"_parent\"><img src=\"https://colab.research.google.com/assets/colab-badge.svg\" alt=\"Open In Colab\"/></a>"
      ]
    },
    {
      "cell_type": "code",
      "metadata": {
        "id": "J8gYBNBr2Ttc"
      },
      "source": [
        ""
      ],
      "execution_count": null,
      "outputs": []
    },
    {
      "cell_type": "markdown",
      "metadata": {
        "id": "XYM0mQCi2WTY"
      },
      "source": [
        "作業目標<br>\r\n",
        "熟悉邏輯運算<br>\r\n",
        "作業重點<br>\r\n",
        "五大類邏輯函式與其對應的函式操作"
      ]
    },
    {
      "cell_type": "markdown",
      "metadata": {
        "id": "-MPLt0EF2Zto"
      },
      "source": [
        "題目:<br>\r\n",
        "english_score = np.array([55,89,76,65,48,70])<br>\r\n",
        "math_score = np.array([60,85,60,68,55,60])<br>\r\n",
        "chinese_score = np.array([65,90,82,72,66,77])<br>\r\n",
        "上3列共六位同學的英文、數學、國文成績，第一個元素代表第一位同學，舉例第一位同學英文55分、數學60分、國文65分，運用上列數據回答下列問題。<br>\r\n",
        "1. 有多少學生英文成績比數學成績高?\r\n",
        "2. 是否全班同學最高分都是國文?\r\n",
        "\r\n",
        "\r\n"
      ]
    },
    {
      "cell_type": "code",
      "metadata": {
        "id": "owy7B7Us2ZEM"
      },
      "source": [
        "import numpy as np\n",
        "english_score = np.array([55,89,76,65,48,70])\n",
        "math_score = np.array([60,85,60,68,55,60])\n",
        "chinese_score = np.array([65,90,82,72,66,77])"
      ],
      "execution_count": 2,
      "outputs": []
    },
    {
      "cell_type": "code",
      "metadata": {
        "id": "i0RGMNH72xkh",
        "colab": {
          "base_uri": "https://localhost:8080/"
        },
        "outputId": "405b454f-6196-494c-c3ba-039599e730a4"
      },
      "source": [
        "#1.有多少學生英文成績比數學成績高?\r\n",
        "np.greater(english_score,math_score)"
      ],
      "execution_count": 3,
      "outputs": [
        {
          "output_type": "execute_result",
          "data": {
            "text/plain": [
              "array([False,  True,  True, False, False,  True])"
            ]
          },
          "metadata": {
            "tags": []
          },
          "execution_count": 3
        }
      ]
    },
    {
      "cell_type": "code",
      "metadata": {
        "id": "F4Hzk1HM8pBZ"
      },
      "source": [
        "#2.是否全班同學最高分都是國文?\r\n",
        "cmp_eng = np.greater(chinese_score,english_score)\r\n",
        "cmp_mat = np.greater(chinese_score,math_score)"
      ],
      "execution_count": 4,
      "outputs": []
    },
    {
      "cell_type": "code",
      "metadata": {
        "colab": {
          "base_uri": "https://localhost:8080/"
        },
        "id": "Ki9XPu82g18J",
        "outputId": "c3f00090-0bcf-44de-d8d2-43fc3e76ba14"
      },
      "source": [
        "np.logical_and(cmp_eng,cmp_mat)"
      ],
      "execution_count": 7,
      "outputs": [
        {
          "output_type": "execute_result",
          "data": {
            "text/plain": [
              "array([ True,  True,  True,  True,  True,  True])"
            ]
          },
          "metadata": {
            "tags": []
          },
          "execution_count": 7
        }
      ]
    },
    {
      "cell_type": "code",
      "metadata": {
        "id": "XMrxsZHfg0VJ"
      },
      "source": [
        "#全班同學最高分的科目都是國文"
      ],
      "execution_count": null,
      "outputs": []
    }
  ]
}