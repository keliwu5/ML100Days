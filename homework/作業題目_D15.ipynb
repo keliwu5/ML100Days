{
  "nbformat": 4,
  "nbformat_minor": 0,
  "metadata": {
    "colab": {
      "name": "作業題目_D15.ipynb",
      "provenance": [],
      "collapsed_sections": [],
      "include_colab_link": true
    },
    "kernelspec": {
      "name": "python3",
      "display_name": "Python 3"
    }
  },
  "cells": [
    {
      "cell_type": "markdown",
      "metadata": {
        "id": "view-in-github",
        "colab_type": "text"
      },
      "source": [
        "<a href=\"https://colab.research.google.com/github/keliwu5/ML100Days/blob/main/homework/%E4%BD%9C%E6%A5%AD%E9%A1%8C%E7%9B%AE_D15.ipynb\" target=\"_parent\"><img src=\"https://colab.research.google.com/assets/colab-badge.svg\" alt=\"Open In Colab\"/></a>"
      ]
    },
    {
      "cell_type": "markdown",
      "metadata": {
        "id": "WpY62-EDcs8F"
      },
      "source": [
        "作業目標:<br>\r\n",
        "1. 熟悉分組計算"
      ]
    },
    {
      "cell_type": "markdown",
      "metadata": {
        "id": "pXYQs1_9a6He"
      },
      "source": [
        "作業重點: <br>\r\n",
        "1. 分組計算也可以加入apply自定義的函數"
      ]
    },
    {
      "cell_type": "markdown",
      "metadata": {
        "id": "vysasgqxcupS"
      },
      "source": [
        "題目 : 運用下列分數資料分析<br>\r\n",
        "1. 找出全年級各科成績最高分與最低分?<br>\r\n",
        "2. 找出數學班平均最高的班級?<br>\r\n",
        "3. 分析全校女生與男生國文平均差幾分?<br>\r\n",
        "score_df = pd.DataFrame([[1,50,80,70,'boy',1],[2,60,45,50,'boy',2],[3,98,43,55,'boy',1],[4,70,69,89,'boy',2],[5,56,79,60,'girl',1],[6,60,68,55,'girl',2],[7,45,70,77,'girl',1],[8,55,77,76,'girl',2],[9,25,57,60,'girl',1],[10,88,40,43,'girl',3],[11,25,60,45,'boy',3],[12,80,60,23,'boy',3],[13,20,90,66,'girl',3],[14,50,50,50,'girl',3],[15,89,67,77,'girl',3]],columns=['student_id','math_score','english_score','chinese_score','sex','class'])"
      ]
    },
    {
      "cell_type": "code",
      "metadata": {
        "colab": {
          "base_uri": "https://localhost:8080/",
          "height": 514
        },
        "id": "3WzHnm4zct7L",
        "outputId": "4cfec7ff-aa46-4158-e314-96d4d696f8d7"
      },
      "source": [
        "import pandas as pd\r\n",
        "score_df = pd.DataFrame([[1,50,80,70,'boy',1], \r\n",
        "              [2,60,45,50,'boy',2],\r\n",
        "              [3,98,43,55,'boy',1],\r\n",
        "              [4,70,69,89,'boy',2],\r\n",
        "              [5,56,79,60,'girl',1],\r\n",
        "              [6,60,68,55,'girl',2],\r\n",
        "              [7,45,70,77,'girl',1],\r\n",
        "              [8,55,77,76,'girl',2],\r\n",
        "              [9,25,57,60,'girl',1],\r\n",
        "              [10,88,40,43,'girl',3],\r\n",
        "              [11,25,60,45,'boy',3],\r\n",
        "              [12,80,60,23,'boy',3],\r\n",
        "              [13,20,90,66,'girl',3],\r\n",
        "              [14,50,50,50,'girl',3],\r\n",
        "              [15,89,67,77,'girl',3]],columns=['student_id','math_score','english_score','chinese_score','sex','class'])\r\n",
        "score_df"
      ],
      "execution_count": 1,
      "outputs": [
        {
          "output_type": "execute_result",
          "data": {
            "text/html": [
              "<div>\n",
              "<style scoped>\n",
              "    .dataframe tbody tr th:only-of-type {\n",
              "        vertical-align: middle;\n",
              "    }\n",
              "\n",
              "    .dataframe tbody tr th {\n",
              "        vertical-align: top;\n",
              "    }\n",
              "\n",
              "    .dataframe thead th {\n",
              "        text-align: right;\n",
              "    }\n",
              "</style>\n",
              "<table border=\"1\" class=\"dataframe\">\n",
              "  <thead>\n",
              "    <tr style=\"text-align: right;\">\n",
              "      <th></th>\n",
              "      <th>student_id</th>\n",
              "      <th>math_score</th>\n",
              "      <th>english_score</th>\n",
              "      <th>chinese_score</th>\n",
              "      <th>sex</th>\n",
              "      <th>class</th>\n",
              "    </tr>\n",
              "  </thead>\n",
              "  <tbody>\n",
              "    <tr>\n",
              "      <th>0</th>\n",
              "      <td>1</td>\n",
              "      <td>50</td>\n",
              "      <td>80</td>\n",
              "      <td>70</td>\n",
              "      <td>boy</td>\n",
              "      <td>1</td>\n",
              "    </tr>\n",
              "    <tr>\n",
              "      <th>1</th>\n",
              "      <td>2</td>\n",
              "      <td>60</td>\n",
              "      <td>45</td>\n",
              "      <td>50</td>\n",
              "      <td>boy</td>\n",
              "      <td>2</td>\n",
              "    </tr>\n",
              "    <tr>\n",
              "      <th>2</th>\n",
              "      <td>3</td>\n",
              "      <td>98</td>\n",
              "      <td>43</td>\n",
              "      <td>55</td>\n",
              "      <td>boy</td>\n",
              "      <td>1</td>\n",
              "    </tr>\n",
              "    <tr>\n",
              "      <th>3</th>\n",
              "      <td>4</td>\n",
              "      <td>70</td>\n",
              "      <td>69</td>\n",
              "      <td>89</td>\n",
              "      <td>boy</td>\n",
              "      <td>2</td>\n",
              "    </tr>\n",
              "    <tr>\n",
              "      <th>4</th>\n",
              "      <td>5</td>\n",
              "      <td>56</td>\n",
              "      <td>79</td>\n",
              "      <td>60</td>\n",
              "      <td>girl</td>\n",
              "      <td>1</td>\n",
              "    </tr>\n",
              "    <tr>\n",
              "      <th>5</th>\n",
              "      <td>6</td>\n",
              "      <td>60</td>\n",
              "      <td>68</td>\n",
              "      <td>55</td>\n",
              "      <td>girl</td>\n",
              "      <td>2</td>\n",
              "    </tr>\n",
              "    <tr>\n",
              "      <th>6</th>\n",
              "      <td>7</td>\n",
              "      <td>45</td>\n",
              "      <td>70</td>\n",
              "      <td>77</td>\n",
              "      <td>girl</td>\n",
              "      <td>1</td>\n",
              "    </tr>\n",
              "    <tr>\n",
              "      <th>7</th>\n",
              "      <td>8</td>\n",
              "      <td>55</td>\n",
              "      <td>77</td>\n",
              "      <td>76</td>\n",
              "      <td>girl</td>\n",
              "      <td>2</td>\n",
              "    </tr>\n",
              "    <tr>\n",
              "      <th>8</th>\n",
              "      <td>9</td>\n",
              "      <td>25</td>\n",
              "      <td>57</td>\n",
              "      <td>60</td>\n",
              "      <td>girl</td>\n",
              "      <td>1</td>\n",
              "    </tr>\n",
              "    <tr>\n",
              "      <th>9</th>\n",
              "      <td>10</td>\n",
              "      <td>88</td>\n",
              "      <td>40</td>\n",
              "      <td>43</td>\n",
              "      <td>girl</td>\n",
              "      <td>3</td>\n",
              "    </tr>\n",
              "    <tr>\n",
              "      <th>10</th>\n",
              "      <td>11</td>\n",
              "      <td>25</td>\n",
              "      <td>60</td>\n",
              "      <td>45</td>\n",
              "      <td>boy</td>\n",
              "      <td>3</td>\n",
              "    </tr>\n",
              "    <tr>\n",
              "      <th>11</th>\n",
              "      <td>12</td>\n",
              "      <td>80</td>\n",
              "      <td>60</td>\n",
              "      <td>23</td>\n",
              "      <td>boy</td>\n",
              "      <td>3</td>\n",
              "    </tr>\n",
              "    <tr>\n",
              "      <th>12</th>\n",
              "      <td>13</td>\n",
              "      <td>20</td>\n",
              "      <td>90</td>\n",
              "      <td>66</td>\n",
              "      <td>girl</td>\n",
              "      <td>3</td>\n",
              "    </tr>\n",
              "    <tr>\n",
              "      <th>13</th>\n",
              "      <td>14</td>\n",
              "      <td>50</td>\n",
              "      <td>50</td>\n",
              "      <td>50</td>\n",
              "      <td>girl</td>\n",
              "      <td>3</td>\n",
              "    </tr>\n",
              "    <tr>\n",
              "      <th>14</th>\n",
              "      <td>15</td>\n",
              "      <td>89</td>\n",
              "      <td>67</td>\n",
              "      <td>77</td>\n",
              "      <td>girl</td>\n",
              "      <td>3</td>\n",
              "    </tr>\n",
              "  </tbody>\n",
              "</table>\n",
              "</div>"
            ],
            "text/plain": [
              "    student_id  math_score  english_score  chinese_score   sex  class\n",
              "0            1          50             80             70   boy      1\n",
              "1            2          60             45             50   boy      2\n",
              "2            3          98             43             55   boy      1\n",
              "3            4          70             69             89   boy      2\n",
              "4            5          56             79             60  girl      1\n",
              "5            6          60             68             55  girl      2\n",
              "6            7          45             70             77  girl      1\n",
              "7            8          55             77             76  girl      2\n",
              "8            9          25             57             60  girl      1\n",
              "9           10          88             40             43  girl      3\n",
              "10          11          25             60             45   boy      3\n",
              "11          12          80             60             23   boy      3\n",
              "12          13          20             90             66  girl      3\n",
              "13          14          50             50             50  girl      3\n",
              "14          15          89             67             77  girl      3"
            ]
          },
          "metadata": {
            "tags": []
          },
          "execution_count": 1
        }
      ]
    },
    {
      "cell_type": "code",
      "metadata": {
        "id": "Zfs1uSNPfNBL",
        "colab": {
          "base_uri": "https://localhost:8080/",
          "height": 297
        },
        "outputId": "003ae103-70d5-4044-aeed-26192c1040f4"
      },
      "source": [
        "#1.找出全年級各科成績最高分與最低分?\n",
        "score_df.groupby(['class','sex']).agg(['max','min'])"
      ],
      "execution_count": 2,
      "outputs": [
        {
          "output_type": "execute_result",
          "data": {
            "text/html": [
              "<div>\n",
              "<style scoped>\n",
              "    .dataframe tbody tr th:only-of-type {\n",
              "        vertical-align: middle;\n",
              "    }\n",
              "\n",
              "    .dataframe tbody tr th {\n",
              "        vertical-align: top;\n",
              "    }\n",
              "\n",
              "    .dataframe thead tr th {\n",
              "        text-align: left;\n",
              "    }\n",
              "\n",
              "    .dataframe thead tr:last-of-type th {\n",
              "        text-align: right;\n",
              "    }\n",
              "</style>\n",
              "<table border=\"1\" class=\"dataframe\">\n",
              "  <thead>\n",
              "    <tr>\n",
              "      <th></th>\n",
              "      <th></th>\n",
              "      <th colspan=\"2\" halign=\"left\">student_id</th>\n",
              "      <th colspan=\"2\" halign=\"left\">math_score</th>\n",
              "      <th colspan=\"2\" halign=\"left\">english_score</th>\n",
              "      <th colspan=\"2\" halign=\"left\">chinese_score</th>\n",
              "    </tr>\n",
              "    <tr>\n",
              "      <th></th>\n",
              "      <th></th>\n",
              "      <th>max</th>\n",
              "      <th>min</th>\n",
              "      <th>max</th>\n",
              "      <th>min</th>\n",
              "      <th>max</th>\n",
              "      <th>min</th>\n",
              "      <th>max</th>\n",
              "      <th>min</th>\n",
              "    </tr>\n",
              "    <tr>\n",
              "      <th>class</th>\n",
              "      <th>sex</th>\n",
              "      <th></th>\n",
              "      <th></th>\n",
              "      <th></th>\n",
              "      <th></th>\n",
              "      <th></th>\n",
              "      <th></th>\n",
              "      <th></th>\n",
              "      <th></th>\n",
              "    </tr>\n",
              "  </thead>\n",
              "  <tbody>\n",
              "    <tr>\n",
              "      <th rowspan=\"2\" valign=\"top\">1</th>\n",
              "      <th>boy</th>\n",
              "      <td>3</td>\n",
              "      <td>1</td>\n",
              "      <td>98</td>\n",
              "      <td>50</td>\n",
              "      <td>80</td>\n",
              "      <td>43</td>\n",
              "      <td>70</td>\n",
              "      <td>55</td>\n",
              "    </tr>\n",
              "    <tr>\n",
              "      <th>girl</th>\n",
              "      <td>9</td>\n",
              "      <td>5</td>\n",
              "      <td>56</td>\n",
              "      <td>25</td>\n",
              "      <td>79</td>\n",
              "      <td>57</td>\n",
              "      <td>77</td>\n",
              "      <td>60</td>\n",
              "    </tr>\n",
              "    <tr>\n",
              "      <th rowspan=\"2\" valign=\"top\">2</th>\n",
              "      <th>boy</th>\n",
              "      <td>4</td>\n",
              "      <td>2</td>\n",
              "      <td>70</td>\n",
              "      <td>60</td>\n",
              "      <td>69</td>\n",
              "      <td>45</td>\n",
              "      <td>89</td>\n",
              "      <td>50</td>\n",
              "    </tr>\n",
              "    <tr>\n",
              "      <th>girl</th>\n",
              "      <td>8</td>\n",
              "      <td>6</td>\n",
              "      <td>60</td>\n",
              "      <td>55</td>\n",
              "      <td>77</td>\n",
              "      <td>68</td>\n",
              "      <td>76</td>\n",
              "      <td>55</td>\n",
              "    </tr>\n",
              "    <tr>\n",
              "      <th rowspan=\"2\" valign=\"top\">3</th>\n",
              "      <th>boy</th>\n",
              "      <td>12</td>\n",
              "      <td>11</td>\n",
              "      <td>80</td>\n",
              "      <td>25</td>\n",
              "      <td>60</td>\n",
              "      <td>60</td>\n",
              "      <td>45</td>\n",
              "      <td>23</td>\n",
              "    </tr>\n",
              "    <tr>\n",
              "      <th>girl</th>\n",
              "      <td>15</td>\n",
              "      <td>10</td>\n",
              "      <td>89</td>\n",
              "      <td>20</td>\n",
              "      <td>90</td>\n",
              "      <td>40</td>\n",
              "      <td>77</td>\n",
              "      <td>43</td>\n",
              "    </tr>\n",
              "  </tbody>\n",
              "</table>\n",
              "</div>"
            ],
            "text/plain": [
              "           student_id     math_score     english_score     chinese_score    \n",
              "                  max min        max min           max min           max min\n",
              "class sex                                                                   \n",
              "1     boy           3   1         98  50            80  43            70  55\n",
              "      girl          9   5         56  25            79  57            77  60\n",
              "2     boy           4   2         70  60            69  45            89  50\n",
              "      girl          8   6         60  55            77  68            76  55\n",
              "3     boy          12  11         80  25            60  60            45  23\n",
              "      girl         15  10         89  20            90  40            77  43"
            ]
          },
          "metadata": {
            "tags": []
          },
          "execution_count": 2
        }
      ]
    },
    {
      "cell_type": "code",
      "metadata": {
        "id": "iZdLLEzYfPnW"
      },
      "source": [
        "#2.找出數學班平均最高的班級?\n",
        "df1 = score_df[['math_score','class']]\n"
      ],
      "execution_count": 11,
      "outputs": []
    },
    {
      "cell_type": "code",
      "metadata": {
        "colab": {
          "base_uri": "https://localhost:8080/",
          "height": 173
        },
        "id": "9d8kqET2qMVs",
        "outputId": "b1fd1767-b93e-450d-9a70-1124c9453efd"
      },
      "source": [
        "df1.groupby('class').mean()"
      ],
      "execution_count": 14,
      "outputs": [
        {
          "output_type": "execute_result",
          "data": {
            "text/html": [
              "<div>\n",
              "<style scoped>\n",
              "    .dataframe tbody tr th:only-of-type {\n",
              "        vertical-align: middle;\n",
              "    }\n",
              "\n",
              "    .dataframe tbody tr th {\n",
              "        vertical-align: top;\n",
              "    }\n",
              "\n",
              "    .dataframe thead th {\n",
              "        text-align: right;\n",
              "    }\n",
              "</style>\n",
              "<table border=\"1\" class=\"dataframe\">\n",
              "  <thead>\n",
              "    <tr style=\"text-align: right;\">\n",
              "      <th></th>\n",
              "      <th>math_score</th>\n",
              "    </tr>\n",
              "    <tr>\n",
              "      <th>class</th>\n",
              "      <th></th>\n",
              "    </tr>\n",
              "  </thead>\n",
              "  <tbody>\n",
              "    <tr>\n",
              "      <th>1</th>\n",
              "      <td>54.800000</td>\n",
              "    </tr>\n",
              "    <tr>\n",
              "      <th>2</th>\n",
              "      <td>61.250000</td>\n",
              "    </tr>\n",
              "    <tr>\n",
              "      <th>3</th>\n",
              "      <td>58.666667</td>\n",
              "    </tr>\n",
              "  </tbody>\n",
              "</table>\n",
              "</div>"
            ],
            "text/plain": [
              "       math_score\n",
              "class            \n",
              "1       54.800000\n",
              "2       61.250000\n",
              "3       58.666667"
            ]
          },
          "metadata": {
            "tags": []
          },
          "execution_count": 14
        }
      ]
    },
    {
      "cell_type": "code",
      "metadata": {
        "id": "CWxb-2TqfbNK"
      },
      "source": [
        "#3.分析全校女生與男生國文平均差幾分?\n",
        "score_df_mean = score_df.groupby('sex').mean()"
      ],
      "execution_count": 19,
      "outputs": []
    },
    {
      "cell_type": "code",
      "metadata": {
        "id": "aBC5K-q6jFvb",
        "colab": {
          "base_uri": "https://localhost:8080/",
          "height": 142
        },
        "outputId": "4043547b-faa5-41bc-e018-7873bdaf2e7e"
      },
      "source": [
        "score_df_mean"
      ],
      "execution_count": 23,
      "outputs": [
        {
          "output_type": "execute_result",
          "data": {
            "text/html": [
              "<div>\n",
              "<style scoped>\n",
              "    .dataframe tbody tr th:only-of-type {\n",
              "        vertical-align: middle;\n",
              "    }\n",
              "\n",
              "    .dataframe tbody tr th {\n",
              "        vertical-align: top;\n",
              "    }\n",
              "\n",
              "    .dataframe thead th {\n",
              "        text-align: right;\n",
              "    }\n",
              "</style>\n",
              "<table border=\"1\" class=\"dataframe\">\n",
              "  <thead>\n",
              "    <tr style=\"text-align: right;\">\n",
              "      <th></th>\n",
              "      <th>student_id</th>\n",
              "      <th>math_score</th>\n",
              "      <th>english_score</th>\n",
              "      <th>chinese_score</th>\n",
              "      <th>class</th>\n",
              "    </tr>\n",
              "    <tr>\n",
              "      <th>sex</th>\n",
              "      <th></th>\n",
              "      <th></th>\n",
              "      <th></th>\n",
              "      <th></th>\n",
              "      <th></th>\n",
              "    </tr>\n",
              "  </thead>\n",
              "  <tbody>\n",
              "    <tr>\n",
              "      <th>boy</th>\n",
              "      <td>5.500000</td>\n",
              "      <td>63.833333</td>\n",
              "      <td>59.500000</td>\n",
              "      <td>55.333333</td>\n",
              "      <td>2.000000</td>\n",
              "    </tr>\n",
              "    <tr>\n",
              "      <th>girl</th>\n",
              "      <td>9.666667</td>\n",
              "      <td>54.222222</td>\n",
              "      <td>66.444444</td>\n",
              "      <td>62.666667</td>\n",
              "      <td>2.111111</td>\n",
              "    </tr>\n",
              "  </tbody>\n",
              "</table>\n",
              "</div>"
            ],
            "text/plain": [
              "      student_id  math_score  english_score  chinese_score     class\n",
              "sex                                                                 \n",
              "boy     5.500000   63.833333      59.500000      55.333333  2.000000\n",
              "girl    9.666667   54.222222      66.444444      62.666667  2.111111"
            ]
          },
          "metadata": {
            "tags": []
          },
          "execution_count": 23
        }
      ]
    },
    {
      "cell_type": "code",
      "metadata": {
        "colab": {
          "base_uri": "https://localhost:8080/"
        },
        "id": "ljb8uqKqrq3P",
        "outputId": "bdd62acf-0a71-4a1b-a464-5fa398d25741"
      },
      "source": [
        "mean_diff = score_df_mean.chinese_score['girl'] - score_df_mean.chinese_score['boy']\n",
        "mean_diff"
      ],
      "execution_count": 40,
      "outputs": [
        {
          "output_type": "execute_result",
          "data": {
            "text/plain": [
              "7.333333333333329"
            ]
          },
          "metadata": {
            "tags": []
          },
          "execution_count": 40
        }
      ]
    }
  ]
}