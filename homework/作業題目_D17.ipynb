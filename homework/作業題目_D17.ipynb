{
  "nbformat": 4,
  "nbformat_minor": 0,
  "metadata": {
    "colab": {
      "name": "作業題目_D17.ipynb",
      "provenance": [],
      "collapsed_sections": [],
      "authorship_tag": "ABX9TyP5bhRN5zgHFRlw/vCiosAL",
      "include_colab_link": true
    },
    "kernelspec": {
      "name": "python3",
      "display_name": "Python 3"
    }
  },
  "cells": [
    {
      "cell_type": "markdown",
      "metadata": {
        "id": "view-in-github",
        "colab_type": "text"
      },
      "source": [
        "<a href=\"https://colab.research.google.com/github/keliwu5/ML100Days/blob/main/homework/%E4%BD%9C%E6%A5%AD%E9%A1%8C%E7%9B%AE_D17.ipynb\" target=\"_parent\"><img src=\"https://colab.research.google.com/assets/colab-badge.svg\" alt=\"Open In Colab\"/></a>"
      ]
    },
    {
      "cell_type": "code",
      "metadata": {
        "id": "1gLSscjB-mdt"
      },
      "source": [
        "#題目 : \n",
        "#在速度較慢的時候，可以先從哪邊開始檢查？\n",
        "# Ans: 先檢查資料型態"
      ],
      "execution_count": null,
      "outputs": []
    },
    {
      "cell_type": "code",
      "metadata": {
        "id": "rU4E8gcgG30i"
      },
      "source": [
        "#資料過大時應採取什麼方式讓記憶體占用量下降？\n",
        "# Ans: 進行資料型態降級\n"
      ],
      "execution_count": null,
      "outputs": []
    }
  ]
}