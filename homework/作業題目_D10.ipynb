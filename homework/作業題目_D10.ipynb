{
  "nbformat": 4,
  "nbformat_minor": 0,
  "metadata": {
    "kernelspec": {
      "display_name": "Python 3",
      "language": "python",
      "name": "python3"
    },
    "language_info": {
      "codemirror_mode": {
        "name": "ipython",
        "version": 3
      },
      "file_extension": ".py",
      "mimetype": "text/x-python",
      "name": "python",
      "nbconvert_exporter": "python",
      "pygments_lexer": "ipython3",
      "version": "3.6.8"
    },
    "colab": {
      "name": "作業題目_D10.ipynb",
      "provenance": [],
      "collapsed_sections": [],
      "toc_visible": true,
      "include_colab_link": true
    }
  },
  "cells": [
    {
      "cell_type": "markdown",
      "metadata": {
        "id": "view-in-github",
        "colab_type": "text"
      },
      "source": [
        "<a href=\"https://colab.research.google.com/github/keliwu5/ML100Days/blob/main/homework/%E4%BD%9C%E6%A5%AD%E9%A1%8C%E7%9B%AE_D10.ipynb\" target=\"_parent\"><img src=\"https://colab.research.google.com/assets/colab-badge.svg\" alt=\"Open In Colab\"/></a>"
      ]
    },
    {
      "cell_type": "markdown",
      "metadata": {
        "id": "Uf6dEaWpP3lo"
      },
      "source": [
        "作業目標:<br>\r\n",
        "1. 運用索引找出需要資料<br>\r\n",
        "2. 合併資料的分法應用"
      ]
    },
    {
      "cell_type": "code",
      "metadata": {
        "id": "BA2CAOLpcvIR"
      },
      "source": [
        "from google.colab import drive\n",
        "drive.mount('/content/drive')"
      ],
      "execution_count": null,
      "outputs": []
    },
    {
      "cell_type": "markdown",
      "metadata": {
        "id": "3rP6NOVVQZuB"
      },
      "source": [
        "作業重點:<br>\r\n",
        "1. 分辨索引loc、iloc差別\r\n",
        "2. 分辨合併資料方法的不同，因應不同情況使用Merge, join, concatenate"
      ]
    },
    {
      "cell_type": "markdown",
      "metadata": {
        "id": "02Ld_89FP-4N"
      },
      "source": [
        "題目:<br>\r\n",
        "讀取STOCK_DAY_0050_202009.csv串聯STOCK_DAY_0050_202010.csv，並且找出open小於close的資料\r\n"
      ]
    },
    {
      "cell_type": "code",
      "metadata": {
        "id": "ysjY4kR5P4rA"
      },
      "source": [
        "import pandas as pd"
      ],
      "execution_count": 1,
      "outputs": []
    },
    {
      "cell_type": "code",
      "metadata": {
        "id": "hsEDbEogG4DG"
      },
      "source": [
        "#讀取STOCK_DAY_0050_202009.csv、STOCK_DAY_0050_202010.csv\n",
        "stock_data_09 = pd.read_csv('STOCK_DAY_0050_202009.csv')\n",
        "stock_data_10 = pd.read_csv('STOCK_DAY_0050_202010.csv')"
      ],
      "execution_count": null,
      "outputs": []
    },
    {
      "cell_type": "code",
      "metadata": {
        "id": "cw3OMgQgG4DG"
      },
      "source": [
        "#串聯\n",
        "stock_concat = pd.concat([stock_data_09, stock_data_10], axis=0)"
      ],
      "execution_count": 10,
      "outputs": []
    },
    {
      "cell_type": "code",
      "metadata": {
        "scrolled": true,
        "id": "LBBLV7TaG4DH",
        "colab": {
          "base_uri": "https://localhost:8080/",
          "height": 545
        },
        "outputId": "b57818d7-8a9a-473d-c952-df7d6b4d679b"
      },
      "source": [
        "#找出open小於close的資料\n",
        "stock_concat.loc[(stock_concat.open < stock_concat.close),['date','open','close']]"
      ],
      "execution_count": 9,
      "outputs": [
        {
          "output_type": "execute_result",
          "data": {
            "text/html": [
              "<div>\n",
              "<style scoped>\n",
              "    .dataframe tbody tr th:only-of-type {\n",
              "        vertical-align: middle;\n",
              "    }\n",
              "\n",
              "    .dataframe tbody tr th {\n",
              "        vertical-align: top;\n",
              "    }\n",
              "\n",
              "    .dataframe thead th {\n",
              "        text-align: right;\n",
              "    }\n",
              "</style>\n",
              "<table border=\"1\" class=\"dataframe\">\n",
              "  <thead>\n",
              "    <tr style=\"text-align: right;\">\n",
              "      <th></th>\n",
              "      <th>date</th>\n",
              "      <th>open</th>\n",
              "      <th>close</th>\n",
              "    </tr>\n",
              "  </thead>\n",
              "  <tbody>\n",
              "    <tr>\n",
              "      <th>0</th>\n",
              "      <td>109/09/01</td>\n",
              "      <td>102.45</td>\n",
              "      <td>103.35</td>\n",
              "    </tr>\n",
              "    <tr>\n",
              "      <th>3</th>\n",
              "      <td>109/09/04</td>\n",
              "      <td>102.00</td>\n",
              "      <td>102.55</td>\n",
              "    </tr>\n",
              "    <tr>\n",
              "      <th>5</th>\n",
              "      <td>109/09/08</td>\n",
              "      <td>102.75</td>\n",
              "      <td>103.00</td>\n",
              "    </tr>\n",
              "    <tr>\n",
              "      <th>6</th>\n",
              "      <td>109/09/09</td>\n",
              "      <td>101.75</td>\n",
              "      <td>102.30</td>\n",
              "    </tr>\n",
              "    <tr>\n",
              "      <th>7</th>\n",
              "      <td>109/09/10</td>\n",
              "      <td>102.80</td>\n",
              "      <td>103.20</td>\n",
              "    </tr>\n",
              "    <tr>\n",
              "      <th>8</th>\n",
              "      <td>109/09/11</td>\n",
              "      <td>103.20</td>\n",
              "      <td>103.25</td>\n",
              "    </tr>\n",
              "    <tr>\n",
              "      <th>9</th>\n",
              "      <td>109/09/14</td>\n",
              "      <td>103.50</td>\n",
              "      <td>104.55</td>\n",
              "    </tr>\n",
              "    <tr>\n",
              "      <th>10</th>\n",
              "      <td>109/09/15</td>\n",
              "      <td>104.45</td>\n",
              "      <td>104.95</td>\n",
              "    </tr>\n",
              "    <tr>\n",
              "      <th>19</th>\n",
              "      <td>109/09/28</td>\n",
              "      <td>101.35</td>\n",
              "      <td>102.30</td>\n",
              "    </tr>\n",
              "    <tr>\n",
              "      <th>21</th>\n",
              "      <td>109/09/30</td>\n",
              "      <td>102.75</td>\n",
              "      <td>103.00</td>\n",
              "    </tr>\n",
              "    <tr>\n",
              "      <th>1</th>\n",
              "      <td>109/10/06</td>\n",
              "      <td>104.00</td>\n",
              "      <td>104.25</td>\n",
              "    </tr>\n",
              "    <tr>\n",
              "      <th>2</th>\n",
              "      <td>109/10/07</td>\n",
              "      <td>104.00</td>\n",
              "      <td>104.80</td>\n",
              "    </tr>\n",
              "    <tr>\n",
              "      <th>3</th>\n",
              "      <td>109/10/08</td>\n",
              "      <td>105.45</td>\n",
              "      <td>106.20</td>\n",
              "    </tr>\n",
              "    <tr>\n",
              "      <th>4</th>\n",
              "      <td>109/10/12</td>\n",
              "      <td>106.70</td>\n",
              "      <td>107.05</td>\n",
              "    </tr>\n",
              "    <tr>\n",
              "      <th>9</th>\n",
              "      <td>109/10/19</td>\n",
              "      <td>105.65</td>\n",
              "      <td>106.60</td>\n",
              "    </tr>\n",
              "    <tr>\n",
              "      <th>12</th>\n",
              "      <td>109/10/22</td>\n",
              "      <td>105.70</td>\n",
              "      <td>106.10</td>\n",
              "    </tr>\n",
              "  </tbody>\n",
              "</table>\n",
              "</div>"
            ],
            "text/plain": [
              "         date    open   close\n",
              "0   109/09/01  102.45  103.35\n",
              "3   109/09/04  102.00  102.55\n",
              "5   109/09/08  102.75  103.00\n",
              "6   109/09/09  101.75  102.30\n",
              "7   109/09/10  102.80  103.20\n",
              "8   109/09/11  103.20  103.25\n",
              "9   109/09/14  103.50  104.55\n",
              "10  109/09/15  104.45  104.95\n",
              "19  109/09/28  101.35  102.30\n",
              "21  109/09/30  102.75  103.00\n",
              "1   109/10/06  104.00  104.25\n",
              "2   109/10/07  104.00  104.80\n",
              "3   109/10/08  105.45  106.20\n",
              "4   109/10/12  106.70  107.05\n",
              "9   109/10/19  105.65  106.60\n",
              "12  109/10/22  105.70  106.10"
            ]
          },
          "metadata": {
            "tags": []
          },
          "execution_count": 9
        }
      ]
    },
    {
      "cell_type": "code",
      "metadata": {
        "id": "tZaFA68VG4DH"
      },
      "source": [
        ""
      ],
      "execution_count": null,
      "outputs": []
    }
  ]
}