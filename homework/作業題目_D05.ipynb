{
  "nbformat": 4,
  "nbformat_minor": 0,
  "metadata": {
    "colab": {
      "name": "作業題目_D05.ipynb",
      "provenance": [],
      "collapsed_sections": [],
      "include_colab_link": true
    },
    "kernelspec": {
      "name": "python3",
      "display_name": "Python 3"
    }
  },
  "cells": [
    {
      "cell_type": "markdown",
      "metadata": {
        "id": "view-in-github",
        "colab_type": "text"
      },
      "source": [
        "<a href=\"https://colab.research.google.com/github/keliwu5/ML100Days/blob/main/homework/%E4%BD%9C%E6%A5%AD%E9%A1%8C%E7%9B%AE_D05.ipynb\" target=\"_parent\"><img src=\"https://colab.research.google.com/assets/colab-badge.svg\" alt=\"Open In Colab\"/></a>"
      ]
    },
    {
      "cell_type": "markdown",
      "metadata": {
        "id": "oef8c2jr-PZY"
      },
      "source": [
        "作業目標<br>\r\n",
        "計算有缺失值的資料，統計量實作<br>\r\n",
        "作業重點<br>\r\n",
        "當遇到缺失值有函式可以處理，不須額外寫程式刪除<br>\r\n",
        "計算統計量時不能出現缺失值"
      ]
    },
    {
      "cell_type": "markdown",
      "metadata": {
        "id": "4YgL8NF4-Ru3"
      },
      "source": [
        "題目:<br>\r\n",
        "english_score = np.array([55,89,76,65,48,70])<br>\r\n",
        "math_score = np.array([60,85,60,68,np.nan,60])<br>\r\n",
        "chinese_score = np.array([65,90,82,72,66,77])<br>\r\n",
        "上3列共六位同學的英文、數學、國文成績，第一個元素代表第一位同學，舉例第一位同學英文55分、數學60分、國文65分，今天第五位同學因某原因沒來考試，導致數學成績缺值，運用上列數據回答下列問題。<br>\r\n",
        "1. 請計算各科成績平均、最大值、最小值、標準差，其中數學缺一筆資料可忽略?\r\n",
        "2. 第五位同學補考數學後成績為55，請計算補考後數學成績平均、最大值、最小值、標準差?\r\n",
        "3. 用補考後資料找出與國文成績相關係數最高的學科?"
      ]
    },
    {
      "cell_type": "code",
      "metadata": {
        "id": "QwsKU8qO-RK7"
      },
      "source": [
        "import numpy as np"
      ],
      "execution_count": 1,
      "outputs": []
    },
    {
      "cell_type": "code",
      "metadata": {
        "id": "B5BqDQAe_czh"
      },
      "source": [
        "english_score = np.array([55,89,76,65,48,70])\r\n",
        "math_score = np.array([60,85,60,68,np.nan,60])\r\n",
        "chinese_score = np.array([65,90,82,72,66,77])"
      ],
      "execution_count": 2,
      "outputs": []
    },
    {
      "cell_type": "code",
      "metadata": {
        "id": "s62llW8NyGIr"
      },
      "source": [
        "subject = [english_score, math_score, chinese_score]"
      ],
      "execution_count": 3,
      "outputs": []
    },
    {
      "cell_type": "code",
      "metadata": {
        "colab": {
          "base_uri": "https://localhost:8080/"
        },
        "id": "ChULMAfW3VEU",
        "outputId": "54b2e884-e89a-4c21-b7c7-3b3a25c69dcc"
      },
      "source": [
        "math_score"
      ],
      "execution_count": 4,
      "outputs": [
        {
          "output_type": "execute_result",
          "data": {
            "text/plain": [
              "array([60., 85., 60., 68., nan, 60.])"
            ]
          },
          "metadata": {
            "tags": []
          },
          "execution_count": 4
        }
      ]
    },
    {
      "cell_type": "code",
      "metadata": {
        "id": "K3tUA6u9aI3N",
        "colab": {
          "base_uri": "https://localhost:8080/"
        },
        "outputId": "acae15b8-12dc-4a6d-f6fe-b3fc7b147d44"
      },
      "source": [
        "#1. 請計算各科成績平均、最大值、最小值、標準差，其中數學缺一筆資料可忽略?\n",
        "for i in range(len(subject)):\n",
        "  if i == 0:\n",
        "    sub_name = 'english'\n",
        "  elif i == 1:\n",
        "    sub_name = 'math'\n",
        "  else:\n",
        "    sub_name = 'chinese'\n",
        "  print(sub_name+'_mean : '+str(np.nanmean(subject[i])))\n",
        "  print(sub_name+'_max : '+str(np.nanmax(subject[i])))\n",
        "  print(sub_name+'_min : '+str(np.nanmin(subject[i])))\n",
        "  print(sub_name+'_std : '+str(np.nanstd(subject[i])))\n"
      ],
      "execution_count": 5,
      "outputs": [
        {
          "output_type": "stream",
          "text": [
            "english_mean : 67.16666666666667\n",
            "english_max : 89\n",
            "english_min : 48\n",
            "english_std : 13.433995020924426\n",
            "math_mean : 66.6\n",
            "math_max : 85.0\n",
            "math_min : 60.0\n",
            "math_std : 9.707728879609279\n",
            "chinese_mean : 75.33333333333333\n",
            "chinese_max : 90\n",
            "chinese_min : 65\n",
            "chinese_std : 8.825468196582484\n"
          ],
          "name": "stdout"
        }
      ]
    },
    {
      "cell_type": "code",
      "metadata": {
        "id": "IM811gDp2R-J"
      },
      "source": [
        "math_score[4]=55"
      ],
      "execution_count": 6,
      "outputs": []
    },
    {
      "cell_type": "code",
      "metadata": {
        "colab": {
          "base_uri": "https://localhost:8080/"
        },
        "id": "E52pwzvB2bvW",
        "outputId": "4757370d-860b-498b-81d8-7615e1bc5fcb"
      },
      "source": [
        "math_score"
      ],
      "execution_count": 7,
      "outputs": [
        {
          "output_type": "execute_result",
          "data": {
            "text/plain": [
              "array([60., 85., 60., 68., 55., 60.])"
            ]
          },
          "metadata": {
            "tags": []
          },
          "execution_count": 7
        }
      ]
    },
    {
      "cell_type": "code",
      "metadata": {
        "id": "mXjDzvSrbLlf",
        "colab": {
          "base_uri": "https://localhost:8080/"
        },
        "outputId": "190b15b7-d97c-42aa-d890-7c1fad1c7450"
      },
      "source": [
        "#2. 第五位同學補考數學後成績為55，請計算補考後數學成績平均、最大值、最小值、標準差?\n",
        "print('math_mean : '+str(np.mean(subject[1])))\n",
        "print('math_max : '+str(np.nanmax(subject[1])))\n",
        "print('math_min : '+str(np.nanmin(subject[1])))\n",
        "print('math_std : '+str(np.nanstd(subject[1])))"
      ],
      "execution_count": 8,
      "outputs": [
        {
          "output_type": "stream",
          "text": [
            "math_mean : 64.66666666666667\n",
            "math_max : 85.0\n",
            "math_min : 55.0\n",
            "math_std : 9.860132971832694\n"
          ],
          "name": "stdout"
        }
      ]
    },
    {
      "cell_type": "code",
      "metadata": {
        "id": "SaGolKx0cKoU"
      },
      "source": [
        "#3. 用補考後資料找出與國文成績相關係數最高的學科?"
      ],
      "execution_count": null,
      "outputs": []
    },
    {
      "cell_type": "code",
      "metadata": {
        "id": "fTNlLZ9Pzyiy",
        "colab": {
          "base_uri": "https://localhost:8080/"
        },
        "outputId": "56a37ef2-1b59-4655-b413-e30bfad43fc3"
      },
      "source": [
        "np.corrcoef(chinese_score, math_score)"
      ],
      "execution_count": 13,
      "outputs": [
        {
          "output_type": "execute_result",
          "data": {
            "text/plain": [
              "array([[1.        , 0.74056803],\n",
              "       [0.74056803, 1.        ]])"
            ]
          },
          "metadata": {
            "tags": []
          },
          "execution_count": 13
        }
      ]
    },
    {
      "cell_type": "code",
      "metadata": {
        "colab": {
          "base_uri": "https://localhost:8080/"
        },
        "id": "IaaWjfKI_T6r",
        "outputId": "e769ef57-83df-49d0-d885-6306f23aafd0"
      },
      "source": [
        "np.corrcoef(chinese_score, english_score)"
      ],
      "execution_count": 11,
      "outputs": [
        {
          "output_type": "execute_result",
          "data": {
            "text/plain": [
              "array([[1.        , 0.97792828],\n",
              "       [0.97792828, 1.        ]])"
            ]
          },
          "metadata": {
            "tags": []
          },
          "execution_count": 11
        }
      ]
    },
    {
      "cell_type": "code",
      "metadata": {
        "id": "3IOWqX0H_eBy"
      },
      "source": [
        ""
      ],
      "execution_count": null,
      "outputs": []
    }
  ]
}