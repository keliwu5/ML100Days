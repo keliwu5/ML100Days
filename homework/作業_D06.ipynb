{
  "nbformat": 4,
  "nbformat_minor": 0,
  "metadata": {
    "colab": {
      "name": "作業_D06.ipynb",
      "provenance": [],
      "collapsed_sections": [],
      "include_colab_link": true
    },
    "kernelspec": {
      "name": "python3",
      "display_name": "Python 3"
    }
  },
  "cells": [
    {
      "cell_type": "markdown",
      "metadata": {
        "id": "view-in-github",
        "colab_type": "text"
      },
      "source": [
        "<a href=\"https://colab.research.google.com/github/keliwu5/ML100Days/blob/main/homework/%E4%BD%9C%E6%A5%AD_D06.ipynb\" target=\"_parent\"><img src=\"https://colab.research.google.com/assets/colab-badge.svg\" alt=\"Open In Colab\"/></a>"
      ]
    },
    {
      "cell_type": "code",
      "metadata": {
        "id": "jbkK8wprdbdY"
      },
      "source": [
        ""
      ],
      "execution_count": null,
      "outputs": []
    },
    {
      "cell_type": "markdown",
      "metadata": {
        "id": "YWb4mnd4fqAG"
      },
      "source": [
        "作業目標<br>\r\n",
        "讀取存取陣列資料<br>\r\n",
        "作業重點<br>\r\n",
        "多陣列存一起需要存成npz，讀取須注意npz中有多個陣列"
      ]
    },
    {
      "cell_type": "markdown",
      "metadata": {
        "id": "UXV4vW6IfsW6"
      },
      "source": [
        "題目:<br>\r\n",
        "1. 將下兩列array存成npz檔<br>\r\n",
        "array1 = np.array(range(30))<br>\r\n",
        "array2 = np.array([2,3,5])<br>\r\n",
        "2. 讀取剛剛的npz檔，加入下列array一起存成新的npz檔\r\n"
      ]
    },
    {
      "cell_type": "code",
      "metadata": {
        "id": "W6EzicXCrNOV"
      },
      "source": [
        "import numpy as np"
      ],
      "execution_count": 2,
      "outputs": []
    },
    {
      "cell_type": "code",
      "metadata": {
        "id": "1mZQSUx_fry7"
      },
      "source": [
        "#. 將下兩列array存成npz檔\r\n",
        "array1 = np.array(range(30))\r\n",
        "array2 = np.array([2,3,5])\r\n",
        "with open('npzarray.npz', 'wb') as f:\r\n",
        "  np.savez(f, array1 = array1, array2 = array2)\r\n"
      ],
      "execution_count": 3,
      "outputs": []
    },
    {
      "cell_type": "code",
      "metadata": {
        "id": "BnloCqO0Xx04"
      },
      "source": [
        "#2. 讀取剛剛的npz檔，加入下列array一起存成新的npz檔"
      ],
      "execution_count": null,
      "outputs": []
    },
    {
      "cell_type": "code",
      "metadata": {
        "id": "uVNrg5qMrg5h"
      },
      "source": [
        "npzfile = np.load('npzarray.npz')"
      ],
      "execution_count": 130,
      "outputs": []
    },
    {
      "cell_type": "code",
      "metadata": {
        "id": "12nWWLaNr211"
      },
      "source": [
        "a = npzfile['array1']"
      ],
      "execution_count": 131,
      "outputs": []
    },
    {
      "cell_type": "code",
      "metadata": {
        "id": "E9JCzcPIQMgW"
      },
      "source": [
        "b = npzfile['array2']"
      ],
      "execution_count": 132,
      "outputs": []
    },
    {
      "cell_type": "code",
      "metadata": {
        "id": "BlV9xnK3QX7X"
      },
      "source": [
        "npzfile = np.load('multi_array.npz')"
      ],
      "execution_count": 133,
      "outputs": []
    },
    {
      "cell_type": "code",
      "metadata": {
        "id": "pk6bx_edQkRh"
      },
      "source": [
        "c = npzfile['array1']"
      ],
      "execution_count": 134,
      "outputs": []
    },
    {
      "cell_type": "code",
      "metadata": {
        "id": "25fsxryYQuQ2"
      },
      "source": [
        "d = npzfile['array2']"
      ],
      "execution_count": 136,
      "outputs": []
    },
    {
      "cell_type": "code",
      "metadata": {
        "id": "_l2TBW7cQy-Y"
      },
      "source": [
        "e = npzfile['array3']"
      ],
      "execution_count": 168,
      "outputs": []
    },
    {
      "cell_type": "code",
      "metadata": {
        "id": "d0tEFaJiSMhB"
      },
      "source": [
        "f = np.genfromtxt('names.txt', dtype= str, delimiter=',')"
      ],
      "execution_count": 167,
      "outputs": []
    },
    {
      "cell_type": "code",
      "metadata": {
        "id": "jXDGACahSVSS"
      },
      "source": [
        "g = np.load('npzarray.npz')['array1']"
      ],
      "execution_count": 206,
      "outputs": []
    },
    {
      "cell_type": "code",
      "metadata": {
        "id": "nPetEAzvSflX"
      },
      "source": [
        "h = np.load('npzarray.npz')['array2']"
      ],
      "execution_count": 207,
      "outputs": []
    },
    {
      "cell_type": "code",
      "metadata": {
        "id": "5Ew61MXGS1cf"
      },
      "source": [
        "i = np.load('one_array.npy')"
      ],
      "execution_count": 208,
      "outputs": []
    },
    {
      "cell_type": "code",
      "metadata": {
        "id": "WmYSidoqTDYK"
      },
      "source": [
        "j = np.loadtxt('test',delimiter=',')"
      ],
      "execution_count": 209,
      "outputs": []
    },
    {
      "cell_type": "code",
      "metadata": {
        "id": "6icBUYb5UA_D"
      },
      "source": [
        "k = np.genfromtxt('test.csv',delimiter=',')"
      ],
      "execution_count": 210,
      "outputs": []
    },
    {
      "cell_type": "code",
      "metadata": {
        "id": "Cc9ei-NAUV8t"
      },
      "source": [
        "l = np.load('test.npy')"
      ],
      "execution_count": 211,
      "outputs": []
    },
    {
      "cell_type": "code",
      "metadata": {
        "id": "9yKhR59-Uf-u"
      },
      "source": [
        "m = np.genfromtxt('test.out', delimiter=',', comments='#')"
      ],
      "execution_count": 212,
      "outputs": []
    },
    {
      "cell_type": "code",
      "metadata": {
        "id": "lAN1cH2dVAqy"
      },
      "source": [
        "n = np.genfromtxt('transform.txt', delimiter=',', dtype=\"i8,i8,U3,U3\")"
      ],
      "execution_count": 213,
      "outputs": []
    },
    {
      "cell_type": "code",
      "metadata": {
        "id": "Yjk9OdEsXmJv"
      },
      "source": [
        "with open('array_sum.npz', 'wb') as z:\n",
        "  np.savez(z, array1 = a, array2 = b, array3 = c, array4 = d, array5 = e, array6 = f, array7 = g, array8 = h, array9 = i, array10 = j, array11 = k, array12 = l, array13 = m, array14 = n)"
      ],
      "execution_count": 222,
      "outputs": []
    },
    {
      "cell_type": "code",
      "metadata": {
        "id": "5ZySgLEeYjxs"
      },
      "source": [
        "npz_sum = np.load('array_sum.npz')"
      ],
      "execution_count": 223,
      "outputs": []
    },
    {
      "cell_type": "code",
      "metadata": {
        "colab": {
          "base_uri": "https://localhost:8080/"
        },
        "id": "vICseysVZS4-",
        "outputId": "2cf78753-d399-4253-a5f4-796080cc617a"
      },
      "source": [
        "npz_sum.files"
      ],
      "execution_count": 224,
      "outputs": [
        {
          "output_type": "execute_result",
          "data": {
            "text/plain": [
              "['array1',\n",
              " 'array2',\n",
              " 'array3',\n",
              " 'array4',\n",
              " 'array5',\n",
              " 'array6',\n",
              " 'array7',\n",
              " 'array8',\n",
              " 'array9',\n",
              " 'array10',\n",
              " 'array11',\n",
              " 'array12',\n",
              " 'array13',\n",
              " 'array14']"
            ]
          },
          "metadata": {
            "tags": []
          },
          "execution_count": 224
        }
      ]
    },
    {
      "cell_type": "code",
      "metadata": {
        "colab": {
          "base_uri": "https://localhost:8080/"
        },
        "id": "DYbssJIEYsMa",
        "outputId": "b88c144e-adf4-412c-82f0-746dab71d457"
      },
      "source": [
        "for i in range(len(npz_sum)):\n",
        "  print(npz_sum['array'+str(i+1)])"
      ],
      "execution_count": 225,
      "outputs": [
        {
          "output_type": "stream",
          "text": [
            "[ 0  1  2  3  4  5  6  7  8  9 10 11 12 13 14 15 16 17 18 19 20 21 22 23\n",
            " 24 25 26 27 28 29]\n",
            "[2 3 5]\n",
            "[0 1 2 3 4 5 6 7 8 9]\n",
            "[1 2 3]\n",
            "[0.5788873  0.69082947 0.04922545 0.86517602 0.29889969 0.55285575\n",
            " 0.69389689 0.49183867 0.8308363  0.06454569]\n",
            "[['a' 'b' 'c']\n",
            " ['1' '2' '3']\n",
            " ['4' '5' '6']\n",
            " ['7' '8' '9']]\n",
            "[ 0  1  2  3  4  5  6  7  8  9 10 11 12 13 14 15 16 17 18 19 20 21 22 23\n",
            " 24 25 26 27 28 29]\n",
            "[2 3 5]\n",
            "13\n",
            "[0. 1. 2. 3. 4.]\n",
            "[[0. 1. 2. 3. 4.]\n",
            " [5. 6. 7. 8. 9.]]\n",
            "[1 2]\n",
            "[0. 1. 2. 3. 4.]\n",
            "[(1, 2, 'Yes', '87%') (3, 4, 'No', '3%') (5, 6, 'Yes', '55%')]\n"
          ],
          "name": "stdout"
        }
      ]
    }
  ]
}